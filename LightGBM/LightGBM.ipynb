{
 "cells": [
  {
   "cell_type": "code",
   "execution_count": 74,
   "id": "c25f4b49",
   "metadata": {
    "pycharm": {
     "name": "#%%\n"
    }
   },
   "outputs": [],
   "source": [
    "import numpy as np\n",
    "import pandas as pd\n",
    "from sklearn.model_selection import train_test_split\n",
    "from sklearn.metrics import roc_auc_score, accuracy_score, roc_curve\n",
    "import matplotlib.pylab as plt\n",
    "\n",
    "from lightgbm import LGBMClassifier\n",
    "from sklearn.model_selection import GridSearchCV\n",
    "import joblib\n",
    "import sklearn.metrics as metrics\n",
    "import random\n",
    "import lightgbm as lgb\n",
    "random.seed(0)"
   ]
  },
  {
   "cell_type": "code",
   "execution_count": 101,
   "id": "1cb67a85",
   "metadata": {
    "pycharm": {
     "name": "#%%\n"
    }
   },
   "outputs": [],
   "source": [
    "data_frame = pd.read_csv('brown_matrix.txt', header=0, encoding='utf-8', sep = '\\t')"
   ]
  },
  {
   "cell_type": "code",
   "execution_count": 102,
   "id": "ede3bb57",
   "metadata": {
    "pycharm": {
     "name": "#%%\n"
    }
   },
   "outputs": [
    {
     "data": {
      "text/plain": "      SLC30A2    TFAP2A  GLDC      FDX1  ART4     LYPD3  SYT5  GCM1  FAM25A  \\\n0         0.0  0.000000   0.0  0.693147   0.0  0.000000   0.0   0.0     0.0   \n1         0.0  0.693147   0.0  0.693147   0.0  0.000000   0.0   0.0     0.0   \n2         0.0  0.000000   0.0  0.693147   0.0  0.000000   0.0   0.0     0.0   \n3         0.0  0.000000   0.0  0.693147   0.0  0.000000   0.0   0.0     0.0   \n4         0.0  0.000000   0.0  0.693147   0.0  0.000000   0.0   0.0     0.0   \n...       ...       ...   ...       ...   ...       ...   ...   ...     ...   \n5943      0.0  0.000000   0.0  0.693147   0.0  0.000000   0.0   0.0     0.0   \n5944      0.0  0.000000   0.0  0.693147   0.0  0.000000   0.0   0.0     0.0   \n5945      0.0  0.000000   0.0  0.693147   0.0  0.000000   0.0   0.0     0.0   \n5946      0.0  0.000000   0.0  0.693147   0.0  0.000000   0.0   0.0     0.0   \n5947      0.0  0.000000   0.0  0.000000   0.0  1.386294   0.0   0.0     0.0   \n\n      PSG6  PSG9  NLRP7  SLC18A3  SLC27A6  MYPN  group  \n0        0   0.0      0      0.0      0.0     0      2  \n1        0   0.0      0      0.0      0.0     0      2  \n2        0   0.0      0      0.0      0.0     0      2  \n3        0   0.0      0      0.0      0.0     0      2  \n4        0   0.0      0      0.0      0.0     0      1  \n...    ...   ...    ...      ...      ...   ...    ...  \n5943     0   0.0      0      0.0      0.0     0      2  \n5944     0   0.0      0      0.0      0.0     0      2  \n5945     0   0.0      0      0.0      0.0     0      2  \n5946     0   0.0      0      0.0      0.0     0      2  \n5947     0   0.0      0      0.0      0.0     0      2  \n\n[5948 rows x 16 columns]",
      "text/html": "<div>\n<style scoped>\n    .dataframe tbody tr th:only-of-type {\n        vertical-align: middle;\n    }\n\n    .dataframe tbody tr th {\n        vertical-align: top;\n    }\n\n    .dataframe thead th {\n        text-align: right;\n    }\n</style>\n<table border=\"1\" class=\"dataframe\">\n  <thead>\n    <tr style=\"text-align: right;\">\n      <th></th>\n      <th>SLC30A2</th>\n      <th>TFAP2A</th>\n      <th>GLDC</th>\n      <th>FDX1</th>\n      <th>ART4</th>\n      <th>LYPD3</th>\n      <th>SYT5</th>\n      <th>GCM1</th>\n      <th>FAM25A</th>\n      <th>PSG6</th>\n      <th>PSG9</th>\n      <th>NLRP7</th>\n      <th>SLC18A3</th>\n      <th>SLC27A6</th>\n      <th>MYPN</th>\n      <th>group</th>\n    </tr>\n  </thead>\n  <tbody>\n    <tr>\n      <th>0</th>\n      <td>0.0</td>\n      <td>0.000000</td>\n      <td>0.0</td>\n      <td>0.693147</td>\n      <td>0.0</td>\n      <td>0.000000</td>\n      <td>0.0</td>\n      <td>0.0</td>\n      <td>0.0</td>\n      <td>0</td>\n      <td>0.0</td>\n      <td>0</td>\n      <td>0.0</td>\n      <td>0.0</td>\n      <td>0</td>\n      <td>2</td>\n    </tr>\n    <tr>\n      <th>1</th>\n      <td>0.0</td>\n      <td>0.693147</td>\n      <td>0.0</td>\n      <td>0.693147</td>\n      <td>0.0</td>\n      <td>0.000000</td>\n      <td>0.0</td>\n      <td>0.0</td>\n      <td>0.0</td>\n      <td>0</td>\n      <td>0.0</td>\n      <td>0</td>\n      <td>0.0</td>\n      <td>0.0</td>\n      <td>0</td>\n      <td>2</td>\n    </tr>\n    <tr>\n      <th>2</th>\n      <td>0.0</td>\n      <td>0.000000</td>\n      <td>0.0</td>\n      <td>0.693147</td>\n      <td>0.0</td>\n      <td>0.000000</td>\n      <td>0.0</td>\n      <td>0.0</td>\n      <td>0.0</td>\n      <td>0</td>\n      <td>0.0</td>\n      <td>0</td>\n      <td>0.0</td>\n      <td>0.0</td>\n      <td>0</td>\n      <td>2</td>\n    </tr>\n    <tr>\n      <th>3</th>\n      <td>0.0</td>\n      <td>0.000000</td>\n      <td>0.0</td>\n      <td>0.693147</td>\n      <td>0.0</td>\n      <td>0.000000</td>\n      <td>0.0</td>\n      <td>0.0</td>\n      <td>0.0</td>\n      <td>0</td>\n      <td>0.0</td>\n      <td>0</td>\n      <td>0.0</td>\n      <td>0.0</td>\n      <td>0</td>\n      <td>2</td>\n    </tr>\n    <tr>\n      <th>4</th>\n      <td>0.0</td>\n      <td>0.000000</td>\n      <td>0.0</td>\n      <td>0.693147</td>\n      <td>0.0</td>\n      <td>0.000000</td>\n      <td>0.0</td>\n      <td>0.0</td>\n      <td>0.0</td>\n      <td>0</td>\n      <td>0.0</td>\n      <td>0</td>\n      <td>0.0</td>\n      <td>0.0</td>\n      <td>0</td>\n      <td>1</td>\n    </tr>\n    <tr>\n      <th>...</th>\n      <td>...</td>\n      <td>...</td>\n      <td>...</td>\n      <td>...</td>\n      <td>...</td>\n      <td>...</td>\n      <td>...</td>\n      <td>...</td>\n      <td>...</td>\n      <td>...</td>\n      <td>...</td>\n      <td>...</td>\n      <td>...</td>\n      <td>...</td>\n      <td>...</td>\n      <td>...</td>\n    </tr>\n    <tr>\n      <th>5943</th>\n      <td>0.0</td>\n      <td>0.000000</td>\n      <td>0.0</td>\n      <td>0.693147</td>\n      <td>0.0</td>\n      <td>0.000000</td>\n      <td>0.0</td>\n      <td>0.0</td>\n      <td>0.0</td>\n      <td>0</td>\n      <td>0.0</td>\n      <td>0</td>\n      <td>0.0</td>\n      <td>0.0</td>\n      <td>0</td>\n      <td>2</td>\n    </tr>\n    <tr>\n      <th>5944</th>\n      <td>0.0</td>\n      <td>0.000000</td>\n      <td>0.0</td>\n      <td>0.693147</td>\n      <td>0.0</td>\n      <td>0.000000</td>\n      <td>0.0</td>\n      <td>0.0</td>\n      <td>0.0</td>\n      <td>0</td>\n      <td>0.0</td>\n      <td>0</td>\n      <td>0.0</td>\n      <td>0.0</td>\n      <td>0</td>\n      <td>2</td>\n    </tr>\n    <tr>\n      <th>5945</th>\n      <td>0.0</td>\n      <td>0.000000</td>\n      <td>0.0</td>\n      <td>0.693147</td>\n      <td>0.0</td>\n      <td>0.000000</td>\n      <td>0.0</td>\n      <td>0.0</td>\n      <td>0.0</td>\n      <td>0</td>\n      <td>0.0</td>\n      <td>0</td>\n      <td>0.0</td>\n      <td>0.0</td>\n      <td>0</td>\n      <td>2</td>\n    </tr>\n    <tr>\n      <th>5946</th>\n      <td>0.0</td>\n      <td>0.000000</td>\n      <td>0.0</td>\n      <td>0.693147</td>\n      <td>0.0</td>\n      <td>0.000000</td>\n      <td>0.0</td>\n      <td>0.0</td>\n      <td>0.0</td>\n      <td>0</td>\n      <td>0.0</td>\n      <td>0</td>\n      <td>0.0</td>\n      <td>0.0</td>\n      <td>0</td>\n      <td>2</td>\n    </tr>\n    <tr>\n      <th>5947</th>\n      <td>0.0</td>\n      <td>0.000000</td>\n      <td>0.0</td>\n      <td>0.000000</td>\n      <td>0.0</td>\n      <td>1.386294</td>\n      <td>0.0</td>\n      <td>0.0</td>\n      <td>0.0</td>\n      <td>0</td>\n      <td>0.0</td>\n      <td>0</td>\n      <td>0.0</td>\n      <td>0.0</td>\n      <td>0</td>\n      <td>2</td>\n    </tr>\n  </tbody>\n</table>\n<p>5948 rows × 16 columns</p>\n</div>"
     },
     "execution_count": 102,
     "metadata": {},
     "output_type": "execute_result"
    }
   ],
   "source": [
    "data_frame"
   ]
  },
  {
   "cell_type": "code",
   "execution_count": 103,
   "id": "c23291f8",
   "metadata": {
    "pycharm": {
     "name": "#%%\n"
    }
   },
   "outputs": [],
   "source": [
    "# 划分训练集和测试集\n",
    "x = data_frame.iloc[:, :-1].values\n",
    "y = data_frame.iloc[:, -1].values"
   ]
  },
  {
   "cell_type": "code",
   "execution_count": 104,
   "id": "a148f42c",
   "metadata": {
    "pycharm": {
     "name": "#%%\n"
    }
   },
   "outputs": [
    {
     "data": {
      "text/plain": "array([[0.        , 0.        , 0.        , ..., 0.        , 0.        ,\n        0.        ],\n       [0.        , 0.69314718, 0.        , ..., 0.        , 0.        ,\n        0.        ],\n       [0.        , 0.        , 0.        , ..., 0.        , 0.        ,\n        0.        ],\n       ...,\n       [0.        , 0.        , 0.        , ..., 0.        , 0.        ,\n        0.        ],\n       [0.        , 0.        , 0.        , ..., 0.        , 0.        ,\n        0.        ],\n       [0.        , 0.        , 0.        , ..., 0.        , 0.        ,\n        0.        ]])"
     },
     "execution_count": 104,
     "metadata": {},
     "output_type": "execute_result"
    }
   ],
   "source": [
    "x"
   ]
  },
  {
   "cell_type": "code",
   "execution_count": 105,
   "id": "f62bd716",
   "metadata": {
    "pycharm": {
     "name": "#%%\n"
    }
   },
   "outputs": [
    {
     "data": {
      "text/plain": "array([2, 2, 2, ..., 2, 2, 2])"
     },
     "execution_count": 105,
     "metadata": {},
     "output_type": "execute_result"
    }
   ],
   "source": [
    "y"
   ]
  },
  {
   "cell_type": "code",
   "execution_count": 106,
   "id": "6298294e",
   "metadata": {
    "pycharm": {
     "name": "#%%\n"
    }
   },
   "outputs": [],
   "source": [
    "x_train, x_test, y_train, y_test = train_test_split(x, y, test_size=0.3, random_state=1)"
   ]
  },
  {
   "cell_type": "code",
   "execution_count": 107,
   "outputs": [],
   "source": [
    "x_test, x_val, y_test, y_val = train_test_split(x_test, y_test, test_size=0.33, random_state=1)"
   ],
   "metadata": {
    "collapsed": false,
    "pycharm": {
     "name": "#%%\n"
    }
   }
  },
  {
   "cell_type": "code",
   "execution_count": 108,
   "outputs": [
    {
     "data": {
      "text/plain": "array([[0.        , 0.        , 0.        , ..., 0.        , 0.        ,\n        0.        ],\n       [0.        , 0.69314718, 0.        , ..., 0.        , 0.        ,\n        0.        ],\n       [0.        , 0.        , 0.        , ..., 0.        , 0.        ,\n        0.        ],\n       ...,\n       [0.        , 0.69314718, 0.        , ..., 0.        , 0.        ,\n        0.        ],\n       [0.        , 0.        , 0.        , ..., 0.        , 0.        ,\n        0.        ],\n       [0.        , 0.        , 0.        , ..., 0.        , 0.        ,\n        0.        ]])"
     },
     "execution_count": 108,
     "metadata": {},
     "output_type": "execute_result"
    }
   ],
   "source": [
    "x_train"
   ],
   "metadata": {
    "collapsed": false,
    "pycharm": {
     "name": "#%%\n"
    }
   }
  },
  {
   "cell_type": "code",
   "execution_count": 109,
   "outputs": [
    {
     "data": {
      "text/plain": "array([[0.        , 0.69314718, 0.        , ..., 0.        , 0.        ,\n        0.        ],\n       [0.        , 0.69314718, 0.        , ..., 0.        , 0.        ,\n        0.        ],\n       [0.        , 0.        , 0.        , ..., 0.        , 0.        ,\n        0.        ],\n       ...,\n       [0.        , 0.        , 0.        , ..., 0.        , 0.        ,\n        0.        ],\n       [0.        , 0.        , 0.        , ..., 0.        , 0.        ,\n        0.        ],\n       [0.        , 0.        , 0.        , ..., 0.        , 0.        ,\n        0.        ]])"
     },
     "execution_count": 109,
     "metadata": {},
     "output_type": "execute_result"
    }
   ],
   "source": [
    "x_test"
   ],
   "metadata": {
    "collapsed": false,
    "pycharm": {
     "name": "#%%\n"
    }
   }
  },
  {
   "cell_type": "code",
   "execution_count": 110,
   "outputs": [
    {
     "data": {
      "text/plain": "array([[0.        , 0.        , 0.        , ..., 0.        , 0.        ,\n        0.        ],\n       [0.        , 0.        , 0.        , ..., 0.        , 0.        ,\n        0.        ],\n       [0.        , 0.69314718, 0.        , ..., 0.        , 0.        ,\n        0.        ],\n       ...,\n       [0.        , 0.        , 0.        , ..., 0.        , 0.        ,\n        0.        ],\n       [0.        , 0.69314718, 0.        , ..., 0.        , 0.        ,\n        0.        ],\n       [0.        , 0.        , 0.        , ..., 0.        , 0.        ,\n        0.        ]])"
     },
     "execution_count": 110,
     "metadata": {},
     "output_type": "execute_result"
    }
   ],
   "source": [
    "x_val"
   ],
   "metadata": {
    "collapsed": false,
    "pycharm": {
     "name": "#%%\n"
    }
   }
  },
  {
   "cell_type": "code",
   "execution_count": 111,
   "outputs": [],
   "source": [
    "# parameters = {'max_depth': [15, 20, 25, 30, 35],\n",
    "#               'learning_rate': [0.01, 0.02, 0.05, 0.1, 0.15],\n",
    "#               'feature_fraction': [0.6, 0.7, 0.8, 0.9, 0.95],\n",
    "#               'bagging_fraction': [0.6, 0.7, 0.8, 0.9, 0.95],\n",
    "#               'bagging_freq': [2, 4, 5, 6, 8],\n",
    "#               'lambda_l1': [0, 0.1, 0.4, 0.5, 0.6],\n",
    "#               'lambda_l2': [0, 10, 15, 35, 40],\n",
    "#               'cat_smooth': [1, 10, 15, 20, 35]}\n",
    "\n",
    "# gbm = LGBMClassifier(boosting_type='gbdt',\n",
    "#                          objective = 'binary',\n",
    "#                          metric = 'auc',\n",
    "#                          verbose = 0,\n",
    "#                          max_depth = 0,\n",
    "#                          learning_rate = 0.02,\n",
    "#                          num_leaves = 10,\n",
    "#                          max_bin = 5,\n",
    "#                          min_data_in_leaf = 1,\n",
    "#                          feature_fraction=0.9,\n",
    "#                          bagging_fraction= 0.55,\n",
    "#                          bagging_freq= 65,\n",
    "#                          lambda_l1= 0.5,\n",
    "#                          lambda_l2= 1e-5,\n",
    "#                          cat_smooth = 1)"
   ],
   "metadata": {
    "collapsed": false,
    "pycharm": {
     "name": "#%%\n"
    }
   }
  },
  {
   "cell_type": "code",
   "execution_count": 112,
   "id": "8cacb055",
   "metadata": {
    "pycharm": {
     "name": "#%%\n"
    }
   },
   "outputs": [],
   "source": [
    "# gbm = GridSearchCV(gbm, param_grid=parameters, scoring='accuracy', cv=3)\n",
    "# gbm.fit(x_train, y_train)"
   ]
  },
  {
   "cell_type": "code",
   "execution_count": 113,
   "id": "36ff0bf2",
   "metadata": {
    "pycharm": {
     "name": "#%%\n"
    }
   },
   "outputs": [
    {
     "name": "stdout",
     "output_type": "stream",
     "text": [
      "[1]\tvalid_0's binary_logloss: 0.606329\n",
      "[2]\tvalid_0's binary_logloss: 0.602763\n",
      "[3]\tvalid_0's binary_logloss: 0.599546\n",
      "[4]\tvalid_0's binary_logloss: 0.596634\n",
      "[5]\tvalid_0's binary_logloss: 0.593993\n",
      "[6]\tvalid_0's binary_logloss: 0.591594\n",
      "[7]\tvalid_0's binary_logloss: 0.58941\n",
      "[8]\tvalid_0's binary_logloss: 0.58742\n",
      "[9]\tvalid_0's binary_logloss: 0.585605\n",
      "[10]\tvalid_0's binary_logloss: 0.583948\n",
      "[11]\tvalid_0's binary_logloss: 0.582435\n",
      "[12]\tvalid_0's binary_logloss: 0.581052\n",
      "[13]\tvalid_0's binary_logloss: 0.579787\n",
      "[14]\tvalid_0's binary_logloss: 0.57863\n",
      "[15]\tvalid_0's binary_logloss: 0.577571\n",
      "[16]\tvalid_0's binary_logloss: 0.576602\n",
      "[17]\tvalid_0's binary_logloss: 0.575715\n",
      "[18]\tvalid_0's binary_logloss: 0.574903\n",
      "[19]\tvalid_0's binary_logloss: 0.574158\n",
      "[20]\tvalid_0's binary_logloss: 0.573477\n"
     ]
    },
    {
     "name": "stderr",
     "output_type": "stream",
     "text": [
      "/Users/liuhonghao/.conda/envs/machine/lib/python3.10/site-packages/lightgbm/sklearn.py:726: UserWarning: 'early_stopping_rounds' argument is deprecated and will be removed in a future release of LightGBM. Pass 'early_stopping()' callback via 'callbacks' argument instead.\n",
      "  _log_warning(\"'early_stopping_rounds' argument is deprecated and will be removed in a future release of LightGBM. \"\n"
     ]
    },
    {
     "data": {
      "text/plain": "LGBMClassifier(learning_rate=0.05, n_estimators=20, num_leaves=15)",
      "text/html": "<style>#sk-container-id-6 {color: black;background-color: white;}#sk-container-id-6 pre{padding: 0;}#sk-container-id-6 div.sk-toggleable {background-color: white;}#sk-container-id-6 label.sk-toggleable__label {cursor: pointer;display: block;width: 100%;margin-bottom: 0;padding: 0.3em;box-sizing: border-box;text-align: center;}#sk-container-id-6 label.sk-toggleable__label-arrow:before {content: \"▸\";float: left;margin-right: 0.25em;color: #696969;}#sk-container-id-6 label.sk-toggleable__label-arrow:hover:before {color: black;}#sk-container-id-6 div.sk-estimator:hover label.sk-toggleable__label-arrow:before {color: black;}#sk-container-id-6 div.sk-toggleable__content {max-height: 0;max-width: 0;overflow: hidden;text-align: left;background-color: #f0f8ff;}#sk-container-id-6 div.sk-toggleable__content pre {margin: 0.2em;color: black;border-radius: 0.25em;background-color: #f0f8ff;}#sk-container-id-6 input.sk-toggleable__control:checked~div.sk-toggleable__content {max-height: 200px;max-width: 100%;overflow: auto;}#sk-container-id-6 input.sk-toggleable__control:checked~label.sk-toggleable__label-arrow:before {content: \"▾\";}#sk-container-id-6 div.sk-estimator input.sk-toggleable__control:checked~label.sk-toggleable__label {background-color: #d4ebff;}#sk-container-id-6 div.sk-label input.sk-toggleable__control:checked~label.sk-toggleable__label {background-color: #d4ebff;}#sk-container-id-6 input.sk-hidden--visually {border: 0;clip: rect(1px 1px 1px 1px);clip: rect(1px, 1px, 1px, 1px);height: 1px;margin: -1px;overflow: hidden;padding: 0;position: absolute;width: 1px;}#sk-container-id-6 div.sk-estimator {font-family: monospace;background-color: #f0f8ff;border: 1px dotted black;border-radius: 0.25em;box-sizing: border-box;margin-bottom: 0.5em;}#sk-container-id-6 div.sk-estimator:hover {background-color: #d4ebff;}#sk-container-id-6 div.sk-parallel-item::after {content: \"\";width: 100%;border-bottom: 1px solid gray;flex-grow: 1;}#sk-container-id-6 div.sk-label:hover label.sk-toggleable__label {background-color: #d4ebff;}#sk-container-id-6 div.sk-serial::before {content: \"\";position: absolute;border-left: 1px solid gray;box-sizing: border-box;top: 0;bottom: 0;left: 50%;z-index: 0;}#sk-container-id-6 div.sk-serial {display: flex;flex-direction: column;align-items: center;background-color: white;padding-right: 0.2em;padding-left: 0.2em;position: relative;}#sk-container-id-6 div.sk-item {position: relative;z-index: 1;}#sk-container-id-6 div.sk-parallel {display: flex;align-items: stretch;justify-content: center;background-color: white;position: relative;}#sk-container-id-6 div.sk-item::before, #sk-container-id-6 div.sk-parallel-item::before {content: \"\";position: absolute;border-left: 1px solid gray;box-sizing: border-box;top: 0;bottom: 0;left: 50%;z-index: -1;}#sk-container-id-6 div.sk-parallel-item {display: flex;flex-direction: column;z-index: 1;position: relative;background-color: white;}#sk-container-id-6 div.sk-parallel-item:first-child::after {align-self: flex-end;width: 50%;}#sk-container-id-6 div.sk-parallel-item:last-child::after {align-self: flex-start;width: 50%;}#sk-container-id-6 div.sk-parallel-item:only-child::after {width: 0;}#sk-container-id-6 div.sk-dashed-wrapped {border: 1px dashed gray;margin: 0 0.4em 0.5em 0.4em;box-sizing: border-box;padding-bottom: 0.4em;background-color: white;}#sk-container-id-6 div.sk-label label {font-family: monospace;font-weight: bold;display: inline-block;line-height: 1.2em;}#sk-container-id-6 div.sk-label-container {text-align: center;}#sk-container-id-6 div.sk-container {/* jupyter's `normalize.less` sets `[hidden] { display: none; }` but bootstrap.min.css set `[hidden] { display: none !important; }` so we also need the `!important` here to be able to override the default hidden behavior on the sphinx rendered scikit-learn.org. See: https://github.com/scikit-learn/scikit-learn/issues/21755 */display: inline-block !important;position: relative;}#sk-container-id-6 div.sk-text-repr-fallback {display: none;}</style><div id=\"sk-container-id-6\" class=\"sk-top-container\"><div class=\"sk-text-repr-fallback\"><pre>LGBMClassifier(learning_rate=0.05, n_estimators=20, num_leaves=15)</pre><b>In a Jupyter environment, please rerun this cell to show the HTML representation or trust the notebook. <br />On GitHub, the HTML representation is unable to render, please try loading this page with nbviewer.org.</b></div><div class=\"sk-container\" hidden><div class=\"sk-item\"><div class=\"sk-estimator sk-toggleable\"><input class=\"sk-toggleable__control sk-hidden--visually\" id=\"sk-estimator-id-6\" type=\"checkbox\" checked><label for=\"sk-estimator-id-6\" class=\"sk-toggleable__label sk-toggleable__label-arrow\">LGBMClassifier</label><div class=\"sk-toggleable__content\"><pre>LGBMClassifier(learning_rate=0.05, n_estimators=20, num_leaves=15)</pre></div></div></div></div></div>"
     },
     "execution_count": 113,
     "metadata": {},
     "output_type": "execute_result"
    }
   ],
   "source": [
    "gbm = LGBMClassifier(num_leaves=15, learning_rate=0.05, n_estimators=20)\n",
    "gbm.fit(x_train, y_train, eval_set=[(x_test, y_test)], early_stopping_rounds=5)"
   ]
  },
  {
   "cell_type": "code",
   "execution_count": 114,
   "id": "3a7f8cae",
   "metadata": {
    "pycharm": {
     "name": "#%%\n"
    }
   },
   "outputs": [],
   "source": [
    "# 模型存储\n",
    "joblib.dump(gbm, 'brown_loan_model.pkl')\n",
    "# 模型加载\n",
    "gbm = joblib.load('brown_loan_model.pkl')"
   ]
  },
  {
   "cell_type": "code",
   "execution_count": 115,
   "id": "d771eb73",
   "metadata": {
    "pycharm": {
     "name": "#%%\n"
    }
   },
   "outputs": [
    {
     "name": "stdout",
     "output_type": "stream",
     "text": [
      "The accuracy of prediction is: 0.7079497907949791\n",
      "Feature importances: [0, 40, 0, 100, 0, 40, 20, 0, 0, 0, 0, 0, 0, 0, 0]\n"
     ]
    }
   ],
   "source": [
    "# 模型预测\n",
    "y_pred = gbm.predict(x_test, num_iteration=gbm.best_iteration_)\n",
    "\n",
    "# 模型评估\n",
    "print('The accuracy of prediction is:', accuracy_score(y_test, y_pred))\n",
    "\n",
    "# 特征重要度\n",
    "print('Feature importances:', list(gbm.feature_importances_))"
   ]
  },
  {
   "cell_type": "code",
   "execution_count": 116,
   "id": "334eafd9",
   "metadata": {
    "pycharm": {
     "name": "#%%\n"
    }
   },
   "outputs": [
    {
     "data": {
      "text/plain": "<Figure size 864x432 with 0 Axes>"
     },
     "metadata": {},
     "output_type": "display_data"
    },
    {
     "data": {
      "text/plain": "<Figure size 432x288 with 1 Axes>",
      "image/png": "[encoded data removed]"
     },
     "metadata": {
      "needs_background": "light"
     },
     "output_type": "display_data"
    }
   ],
   "source": [
    "plt.figure(figsize=(12,6))\n",
    "lgb.plot_importance(gbm, max_num_features=30)\n",
    "plt.title(\"Featurertances\")\n",
    "plt.show()"
   ]
  },
  {
   "cell_type": "code",
   "execution_count": 117,
   "id": "9af670c5",
   "metadata": {
    "pycharm": {
     "name": "#%%\n"
    }
   },
   "outputs": [],
   "source": [
    "booster = gbm.booster_\n",
    "importance = booster.feature_importance(importance_type='split')\n",
    "feature_name = booster.feature_name()\n",
    "\n",
    "feature_importance = pd.DataFrame({\n",
    "  'feature_name':feature_name,'importance':importance} )"
   ]
  },
  {
   "cell_type": "code",
   "execution_count": 118,
   "id": "f7f631fd",
   "metadata": {
    "pycharm": {
     "name": "#%%\n"
    }
   },
   "outputs": [
    {
     "data": {
      "text/plain": "   feature_name  importance\n0      Column_0           0\n1      Column_1          40\n2      Column_2           0\n3      Column_3         100\n4      Column_4           0\n5      Column_5          40\n6      Column_6          20\n7      Column_7           0\n8      Column_8           0\n9      Column_9           0\n10    Column_10           0\n11    Column_11           0\n12    Column_12           0\n13    Column_13           0\n14    Column_14           0",
      "text/html": "<div>\n<style scoped>\n    .dataframe tbody tr th:only-of-type {\n        vertical-align: middle;\n    }\n\n    .dataframe tbody tr th {\n        vertical-align: top;\n    }\n\n    .dataframe thead th {\n        text-align: right;\n    }\n</style>\n<table border=\"1\" class=\"dataframe\">\n  <thead>\n    <tr style=\"text-align: right;\">\n      <th></th>\n      <th>feature_name</th>\n      <th>importance</th>\n    </tr>\n  </thead>\n  <tbody>\n    <tr>\n      <th>0</th>\n      <td>Column_0</td>\n      <td>0</td>\n    </tr>\n    <tr>\n      <th>1</th>\n      <td>Column_1</td>\n      <td>40</td>\n    </tr>\n    <tr>\n      <th>2</th>\n      <td>Column_2</td>\n      <td>0</td>\n    </tr>\n    <tr>\n      <th>3</th>\n      <td>Column_3</td>\n      <td>100</td>\n    </tr>\n    <tr>\n      <th>4</th>\n      <td>Column_4</td>\n      <td>0</td>\n    </tr>\n    <tr>\n      <th>5</th>\n      <td>Column_5</td>\n      <td>40</td>\n    </tr>\n    <tr>\n      <th>6</th>\n      <td>Column_6</td>\n      <td>20</td>\n    </tr>\n    <tr>\n      <th>7</th>\n      <td>Column_7</td>\n      <td>0</td>\n    </tr>\n    <tr>\n      <th>8</th>\n      <td>Column_8</td>\n      <td>0</td>\n    </tr>\n    <tr>\n      <th>9</th>\n      <td>Column_9</td>\n      <td>0</td>\n    </tr>\n    <tr>\n      <th>10</th>\n      <td>Column_10</td>\n      <td>0</td>\n    </tr>\n    <tr>\n      <th>11</th>\n      <td>Column_11</td>\n      <td>0</td>\n    </tr>\n    <tr>\n      <th>12</th>\n      <td>Column_12</td>\n      <td>0</td>\n    </tr>\n    <tr>\n      <th>13</th>\n      <td>Column_13</td>\n      <td>0</td>\n    </tr>\n    <tr>\n      <th>14</th>\n      <td>Column_14</td>\n      <td>0</td>\n    </tr>\n  </tbody>\n</table>\n</div>"
     },
     "execution_count": 118,
     "metadata": {},
     "output_type": "execute_result"
    }
   ],
   "source": [
    "feature_importance"
   ]
  },
  {
   "cell_type": "code",
   "execution_count": 119,
   "id": "ac881e0d",
   "metadata": {
    "pycharm": {
     "name": "#%%\n"
    }
   },
   "outputs": [],
   "source": [
    "feature_importance.to_csv('brown_feature_importance.csv',index=False)"
   ]
  },
  {
   "cell_type": "code",
   "execution_count": 120,
   "id": "5e3fc4b2",
   "metadata": {
    "pycharm": {
     "name": "#%%\n"
    }
   },
   "outputs": [],
   "source": [
    "gbm_y_pre = gbm.predict(x_train) # 分类的类别\n",
    "gbm_y_proba = gbm.predict_proba(x_train) # 分类的概率值"
   ]
  },
  {
   "cell_type": "code",
   "execution_count": 121,
   "id": "d03bf8a6",
   "metadata": {
    "pycharm": {
     "name": "#%%\n"
    }
   },
   "outputs": [
    {
     "data": {
      "text/plain": "<Figure size 432x288 with 1 Axes>",
      "image/png": "[encoded data removed]"
     },
     "metadata": {
      "needs_background": "light"
     },
     "output_type": "display_data"
    }
   ],
   "source": [
    "gbm_auc = roc_auc_score(y_train, gbm_y_proba[:, 1])  # 计算auc\n",
    "gbm_fpr, gbm_tpr, gbm_threasholds = roc_curve(y_train, gbm_y_proba[:, 1], pos_label=2)  # 计算ROC的值\n",
    "plt.title(\"roc_curve of %s(AUC=%.4f)\" % ('gbm', gbm_auc))\n",
    "plt.xlabel('Specificity')  # specificity = 1 - np.array(gbm_fpr))\n",
    "plt.ylabel('Sensitivity')  # sensitivity = gbm_tpr\n",
    "plt.plot(list(1-np.array(gbm_fpr)), gbm_tpr)\n",
    "plt.gca().invert_xaxis()  # 将X轴反转\n",
    "plt.show()"
   ]
  },
  {
   "cell_type": "code",
   "execution_count": 122,
   "id": "a6f847ce",
   "metadata": {
    "pycharm": {
     "name": "#%%\n"
    }
   },
   "outputs": [],
   "source": [
    "fpr, tpr, thresholds = metrics.roc_curve(y_train, gbm_y_proba[:,1], pos_label=2)\n",
    "roc_auc = metrics.auc(fpr,tpr)"
   ]
  },
  {
   "cell_type": "code",
   "execution_count": 123,
   "id": "50eb4916",
   "metadata": {
    "pycharm": {
     "name": "#%%\n"
    }
   },
   "outputs": [
    {
     "data": {
      "text/plain": "<Figure size 432x288 with 1 Axes>",
      "image/png": "[encoded data removed]"
     },
     "metadata": {
      "needs_background": "light"
     },
     "output_type": "display_data"
    }
   ],
   "source": [
    "plt.figure()\n",
    "lw = 2\n",
    "plt.plot(\n",
    "    fpr,\n",
    "    tpr,\n",
    "    color=\"darkorange\",\n",
    "    lw=lw,\n",
    "    label=\"ROC curve (area = %0.2f)\" % roc_auc,\n",
    ")\n",
    "plt.plot([0, 1], [0, 1], color=\"navy\", lw=lw, linestyle=\"--\")\n",
    "plt.xlim([0.0, 1.0])\n",
    "plt.ylim([0.0, 1.05])\n",
    "plt.xlabel(\"False Positive Rate\")\n",
    "plt.ylabel(\"True Positive Rate\")\n",
    "plt.title(\"Receiver operating characteristic example\")\n",
    "plt.legend(loc=\"lower right\")\n",
    "plt.savefig('brown_auc_roc_train.pdf')\n",
    "plt.show()"
   ]
  },
  {
   "cell_type": "code",
   "execution_count": 124,
   "outputs": [
    {
     "name": "stdout",
     "output_type": "stream",
     "text": [
      "train_ks =  0.21942248572683354\n",
      "train_auc =  0.6453324000878349\n",
      "test_ks =  0.2760975511923146\n",
      "test_auc =  0.6592343381266589\n"
     ]
    },
    {
     "data": {
      "text/plain": "<Figure size 432x288 with 1 Axes>",
      "image/png": "[encoded data removed]"
     },
     "metadata": {
      "needs_background": "light"
     },
     "output_type": "display_data"
    }
   ],
   "source": [
    "def roc_auc_plot(gbm,x_train,y_train,x_test, y_test):\n",
    "    train_auc = roc_auc_score(y_train,gbm.predict_proba(x_train)[:,1])\n",
    "    train_fpr, train_tpr, _ = roc_curve(y_train,gbm.predict_proba(x_train)[:,1], pos_label=2)\n",
    "    train_ks = abs(train_fpr-train_tpr).max()\n",
    "    print('train_ks = ', train_ks)\n",
    "    print('train_auc = ', train_auc)\n",
    "    \n",
    "    test_auc = roc_auc_score(y_test,gbm.predict_proba(x_test)[:,1])\n",
    "    test_fpr, test_tpr, _ = roc_curve(y_test,gbm.predict_proba(x_test)[:,1], pos_label=2)\n",
    "    test_ks = abs(test_fpr-test_tpr).max()\n",
    "    print('test_ks = ', test_ks)\n",
    "    print('test_auc = ', test_auc)\n",
    "    \n",
    "    from matplotlib import pyplot as plt\n",
    "    plt.plot(train_fpr,train_tpr,label = 'val_roc')\n",
    "    plt.plot(test_fpr,test_tpr,label = 'test_roc')\n",
    "    plt.plot([0, 1], [0, 1], color=\"navy\", lw=lw, linestyle=\"--\")\n",
    "    plt.xlim([0.0, 1.0])\n",
    "    plt.ylim([0.0, 1.05])\n",
    "    plt.xlabel('False positive rate')\n",
    "    plt.ylabel('True positive rate')\n",
    "    plt.title('ROC Curve')\n",
    "    plt.legend(loc = 'best')\n",
    "    plt.savefig('brown_auc_roc.pdf')\n",
    "    plt.show()\n",
    "\n",
    "roc_auc_plot(gbm ,x_val,y_val,x_test, y_test)"
   ],
   "metadata": {
    "collapsed": false,
    "pycharm": {
     "name": "#%%\n"
    }
   }
  }
 ],
 "metadata": {
  "kernelspec": {
   "display_name": "Python 3 (ipykernel)",
   "language": "python",
   "name": "python3"
  },
  "language_info": {
   "codemirror_mode": {
    "name": "ipython",
    "version": 3
   },
   "file_extension": ".py",
   "mimetype": "text/x-python",
   "name": "python",
   "nbconvert_exporter": "python",
   "pygments_lexer": "ipython3",
   "version": "3.10.4"
  },
  "toc": {
   "base_numbering": 1,
   "nav_menu": {},
   "number_sections": true,
   "sideBar": true,
   "skip_h1_title": false,
   "title_cell": "Table of Contents",
   "title_sidebar": "Contents",
   "toc_cell": false,
   "toc_position": {},
   "toc_section_display": true,
   "toc_window_display": false
  }
 },
 "nbformat": 4,
 "nbformat_minor": 5
}